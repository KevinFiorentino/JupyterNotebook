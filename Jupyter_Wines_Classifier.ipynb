{
  "nbformat": 4,
  "nbformat_minor": 0,
  "metadata": {
    "colab": {
      "name": "Jupyter - Wines - Classifier.ipynb",
      "version": "0.3.2",
      "provenance": [],
      "collapsed_sections": [
        "lxteiI1OSJNV",
        "nGiLtZveSSdV",
        "Xq52nAC0BcCb",
        "QjDgYrhS9Q1o",
        "GFdt7N2W-xru",
        "5EQ5S5yqqtfI",
        "_hJYleLi6oOp",
        "amXgxPcxw6Ma",
        "ndnuRArJ_s1P",
        "YiZnYI6_3aki",
        "I7yq2lI78Nlq",
        "UZwih_IOLgU6",
        "M2L4hKngxSf_",
        "wtgjVxI__MiP"
      ],
      "include_colab_link": true
    },
    "kernelspec": {
      "name": "python3",
      "display_name": "Python 3"
    }
  },
  "cells": [
    {
      "cell_type": "markdown",
      "metadata": {
        "id": "view-in-github",
        "colab_type": "text"
      },
      "source": [
        "<a href=\"https://colab.research.google.com/github/KevinFiorentino/JupyterNotebook/blob/master/Jupyter_Wines_Classifier.ipynb\" target=\"_parent\"><img src=\"https://colab.research.google.com/assets/colab-badge.svg\" alt=\"Open In Colab\"/></a>"
      ]
    },
    {
      "cell_type": "markdown",
      "metadata": {
        "id": "lxteiI1OSJNV",
        "colab_type": "text"
      },
      "source": [
        "## 0) Preparación del Entorno"
      ]
    },
    {
      "cell_type": "code",
      "metadata": {
        "id": "gQXAfmQRDeEW",
        "colab_type": "code",
        "colab": {}
      },
      "source": [
        "import pandas as pd\n",
        "import matplotlib.pyplot as plt\n",
        "import seaborn as sns\n",
        "import numpy as np\n",
        "\n",
        "%matplotlib inline "
      ],
      "execution_count": 0,
      "outputs": []
    },
    {
      "cell_type": "code",
      "metadata": {
        "id": "Wu3CFoYVDt0f",
        "colab_type": "code",
        "outputId": "2c22da3b-66d7-4e46-9867-d66ba36fd4f8",
        "colab": {
          "base_uri": "https://localhost:8080/",
          "height": 326
        }
      },
      "source": [
        "!wget -O wine.csv \"https://drive.google.com/uc?export=download&id=1bexD-rAY7b0-XQhWd9p51Us1UhcQ_qZs\""
      ],
      "execution_count": 0,
      "outputs": [
        {
          "output_type": "stream",
          "text": [
            "--2019-05-26 19:59:53--  https://drive.google.com/uc?export=download&id=1bexD-rAY7b0-XQhWd9p51Us1UhcQ_qZs\n",
            "Resolving drive.google.com (drive.google.com)... 74.125.141.138, 74.125.141.113, 74.125.141.139, ...\n",
            "Connecting to drive.google.com (drive.google.com)|74.125.141.138|:443... connected.\n",
            "HTTP request sent, awaiting response... 302 Moved Temporarily\n",
            "Location: https://doc-0s-as-docs.googleusercontent.com/docs/securesc/ha0ro937gcuc7l7deffksulhg5h7mbp1/ko8hccohsnegibfurs6s162r51gssb2i/1558893600000/11351302820947401900/*/1bexD-rAY7b0-XQhWd9p51Us1UhcQ_qZs?e=download [following]\n",
            "Warning: wildcards not supported in HTTP.\n",
            "--2019-05-26 19:59:54--  https://doc-0s-as-docs.googleusercontent.com/docs/securesc/ha0ro937gcuc7l7deffksulhg5h7mbp1/ko8hccohsnegibfurs6s162r51gssb2i/1558893600000/11351302820947401900/*/1bexD-rAY7b0-XQhWd9p51Us1UhcQ_qZs?e=download\n",
            "Resolving doc-0s-as-docs.googleusercontent.com (doc-0s-as-docs.googleusercontent.com)... 74.125.141.132, 2607:f8b0:400c:c06::84\n",
            "Connecting to doc-0s-as-docs.googleusercontent.com (doc-0s-as-docs.googleusercontent.com)|74.125.141.132|:443... connected.\n",
            "HTTP request sent, awaiting response... 200 OK\n",
            "Length: 391385 (382K) [text/csv]\n",
            "Saving to: ‘wine.csv’\n",
            "\n",
            "\rwine.csv              0%[                    ]       0  --.-KB/s               \rwine.csv            100%[===================>] 382.21K  --.-KB/s    in 0.004s  \n",
            "\n",
            "2019-05-26 19:59:54 (93.9 MB/s) - ‘wine.csv’ saved [391385/391385]\n",
            "\n"
          ],
          "name": "stdout"
        }
      ]
    },
    {
      "cell_type": "markdown",
      "metadata": {
        "id": "_OUMMcZevmLX",
        "colab_type": "text"
      },
      "source": [
        ""
      ]
    },
    {
      "cell_type": "markdown",
      "metadata": {
        "id": "na1FxD3nSM7F",
        "colab_type": "text"
      },
      "source": [
        "# Prototipo I - Kevin - Wines"
      ]
    },
    {
      "cell_type": "markdown",
      "metadata": {
        "id": "nGiLtZveSSdV",
        "colab_type": "text"
      },
      "source": [
        "## 1) Entendimiento del Negocio"
      ]
    },
    {
      "cell_type": "markdown",
      "metadata": {
        "id": "EMPsJdIcSr19",
        "colab_type": "text"
      },
      "source": [
        "###Input variables (based on physicochemical tests):\n",
        "   1. fixed acidity\n",
        "   2. volatile acidity\n",
        "   3. citric acid\n",
        "   4. residual sugar\n",
        "   5. chlorides\n",
        "   6. free sulfur dioxide\n",
        "   7. total sulfur dioxide\n",
        "   8. density\n",
        "   9. pH\n",
        "   10. sulphates\n",
        "   11. alcohol\n",
        "   12. wine type\n",
        "\n",
        "\n",
        "### Output variable (based on sensory data): \n",
        "   13. quality (score between 0 and 10)\n",
        "   \n",
        "   ----\n",
        "   \n",
        "### Webgrafía:\n",
        "   \n",
        "- https://www.youtube.com/watch?v=GuW0Doiye8g\n",
        "\n",
        "- https://napsterinblue.github.io/notes/machine_learning/model_selection/grid_search/"
      ]
    },
    {
      "cell_type": "markdown",
      "metadata": {
        "id": "F5_MXmzNShRW",
        "colab_type": "text"
      },
      "source": [
        "## 2) Entendimiento de los Datos"
      ]
    },
    {
      "cell_type": "code",
      "metadata": {
        "id": "RhHOiun_EJw1",
        "colab_type": "code",
        "colab": {}
      },
      "source": [
        "data = pd.read_csv('wine.csv', sep=',', index_col=0)\n",
        "wines = pd.DataFrame(data)"
      ],
      "execution_count": 0,
      "outputs": []
    },
    {
      "cell_type": "code",
      "metadata": {
        "id": "ku4PNihBEp22",
        "colab_type": "code",
        "outputId": "7333d1e2-7c1a-4b2c-e3d0-9129f96bbddb",
        "colab": {
          "base_uri": "https://localhost:8080/",
          "height": 221
        }
      },
      "source": [
        "wines.head()"
      ],
      "execution_count": 0,
      "outputs": [
        {
          "output_type": "execute_result",
          "data": {
            "text/html": [
              "<div>\n",
              "<style scoped>\n",
              "    .dataframe tbody tr th:only-of-type {\n",
              "        vertical-align: middle;\n",
              "    }\n",
              "\n",
              "    .dataframe tbody tr th {\n",
              "        vertical-align: top;\n",
              "    }\n",
              "\n",
              "    .dataframe thead th {\n",
              "        text-align: right;\n",
              "    }\n",
              "</style>\n",
              "<table border=\"1\" class=\"dataframe\">\n",
              "  <thead>\n",
              "    <tr style=\"text-align: right;\">\n",
              "      <th></th>\n",
              "      <th>fixed acidity</th>\n",
              "      <th>volatile acidity</th>\n",
              "      <th>citric acid</th>\n",
              "      <th>residual sugar</th>\n",
              "      <th>chlorides</th>\n",
              "      <th>free sulfur dioxide</th>\n",
              "      <th>total sulfur dioxide</th>\n",
              "      <th>density</th>\n",
              "      <th>pH</th>\n",
              "      <th>sulphates</th>\n",
              "      <th>alcohol</th>\n",
              "      <th>quality</th>\n",
              "      <th>type</th>\n",
              "    </tr>\n",
              "  </thead>\n",
              "  <tbody>\n",
              "    <tr>\n",
              "      <th>0</th>\n",
              "      <td>8.5</td>\n",
              "      <td>0.655</td>\n",
              "      <td>0.49</td>\n",
              "      <td>6.10</td>\n",
              "      <td>0.122</td>\n",
              "      <td>34.0</td>\n",
              "      <td>151.0</td>\n",
              "      <td>1.00100</td>\n",
              "      <td>3.31</td>\n",
              "      <td>1.14</td>\n",
              "      <td>9.3</td>\n",
              "      <td>5</td>\n",
              "      <td>red</td>\n",
              "    </tr>\n",
              "    <tr>\n",
              "      <th>1</th>\n",
              "      <td>6.7</td>\n",
              "      <td>0.470</td>\n",
              "      <td>0.29</td>\n",
              "      <td>4.75</td>\n",
              "      <td>0.034</td>\n",
              "      <td>29.0</td>\n",
              "      <td>134.0</td>\n",
              "      <td>0.99056</td>\n",
              "      <td>3.29</td>\n",
              "      <td>0.46</td>\n",
              "      <td>13.0</td>\n",
              "      <td>7</td>\n",
              "      <td>White</td>\n",
              "    </tr>\n",
              "    <tr>\n",
              "      <th>2</th>\n",
              "      <td>5.8</td>\n",
              "      <td>0.190</td>\n",
              "      <td>0.24</td>\n",
              "      <td>1.30</td>\n",
              "      <td>0.044</td>\n",
              "      <td>38.0</td>\n",
              "      <td>128.0</td>\n",
              "      <td>0.99362</td>\n",
              "      <td>3.77</td>\n",
              "      <td>0.60</td>\n",
              "      <td>10.6</td>\n",
              "      <td>5</td>\n",
              "      <td>White</td>\n",
              "    </tr>\n",
              "    <tr>\n",
              "      <th>3</th>\n",
              "      <td>6.5</td>\n",
              "      <td>0.200</td>\n",
              "      <td>0.50</td>\n",
              "      <td>18.10</td>\n",
              "      <td>0.054</td>\n",
              "      <td>50.0</td>\n",
              "      <td>221.0</td>\n",
              "      <td>0.99941</td>\n",
              "      <td>2.94</td>\n",
              "      <td>0.64</td>\n",
              "      <td>8.8</td>\n",
              "      <td>6</td>\n",
              "      <td>White</td>\n",
              "    </tr>\n",
              "    <tr>\n",
              "      <th>4</th>\n",
              "      <td>5.6</td>\n",
              "      <td>0.605</td>\n",
              "      <td>0.05</td>\n",
              "      <td>2.40</td>\n",
              "      <td>0.073</td>\n",
              "      <td>19.0</td>\n",
              "      <td>25.0</td>\n",
              "      <td>0.99258</td>\n",
              "      <td>3.56</td>\n",
              "      <td>0.55</td>\n",
              "      <td>12.9</td>\n",
              "      <td>5</td>\n",
              "      <td>red</td>\n",
              "    </tr>\n",
              "  </tbody>\n",
              "</table>\n",
              "</div>"
            ],
            "text/plain": [
              "   fixed acidity  volatile acidity  citric acid  ...  alcohol  quality   type\n",
              "0            8.5             0.655         0.49  ...      9.3        5    red\n",
              "1            6.7             0.470         0.29  ...     13.0        7  White\n",
              "2            5.8             0.190         0.24  ...     10.6        5  White\n",
              "3            6.5             0.200         0.50  ...      8.8        6  White\n",
              "4            5.6             0.605         0.05  ...     12.9        5    red\n",
              "\n",
              "[5 rows x 13 columns]"
            ]
          },
          "metadata": {
            "tags": []
          },
          "execution_count": 5
        }
      ]
    },
    {
      "cell_type": "code",
      "metadata": {
        "id": "bnP6VvlfQ_9l",
        "colab_type": "code",
        "outputId": "c0c83f0c-6049-4170-cc80-c9b21b45a859",
        "colab": {
          "base_uri": "https://localhost:8080/",
          "height": 351
        }
      },
      "source": [
        "wines.describe()"
      ],
      "execution_count": 0,
      "outputs": [
        {
          "output_type": "execute_result",
          "data": {
            "text/html": [
              "<div>\n",
              "<style scoped>\n",
              "    .dataframe tbody tr th:only-of-type {\n",
              "        vertical-align: middle;\n",
              "    }\n",
              "\n",
              "    .dataframe tbody tr th {\n",
              "        vertical-align: top;\n",
              "    }\n",
              "\n",
              "    .dataframe thead th {\n",
              "        text-align: right;\n",
              "    }\n",
              "</style>\n",
              "<table border=\"1\" class=\"dataframe\">\n",
              "  <thead>\n",
              "    <tr style=\"text-align: right;\">\n",
              "      <th></th>\n",
              "      <th>fixed acidity</th>\n",
              "      <th>volatile acidity</th>\n",
              "      <th>citric acid</th>\n",
              "      <th>residual sugar</th>\n",
              "      <th>chlorides</th>\n",
              "      <th>free sulfur dioxide</th>\n",
              "      <th>total sulfur dioxide</th>\n",
              "      <th>density</th>\n",
              "      <th>pH</th>\n",
              "      <th>sulphates</th>\n",
              "      <th>alcohol</th>\n",
              "      <th>quality</th>\n",
              "    </tr>\n",
              "  </thead>\n",
              "  <tbody>\n",
              "    <tr>\n",
              "      <th>count</th>\n",
              "      <td>5197.000000</td>\n",
              "      <td>5197.000000</td>\n",
              "      <td>5197.000000</td>\n",
              "      <td>5197.000000</td>\n",
              "      <td>5197.000000</td>\n",
              "      <td>5197.000000</td>\n",
              "      <td>5197.000000</td>\n",
              "      <td>5197.000000</td>\n",
              "      <td>5197.000000</td>\n",
              "      <td>5197.000000</td>\n",
              "      <td>5197.000000</td>\n",
              "      <td>5197.000000</td>\n",
              "    </tr>\n",
              "    <tr>\n",
              "      <th>mean</th>\n",
              "      <td>7.213854</td>\n",
              "      <td>0.338667</td>\n",
              "      <td>0.318628</td>\n",
              "      <td>5.469983</td>\n",
              "      <td>0.056053</td>\n",
              "      <td>30.733019</td>\n",
              "      <td>115.941409</td>\n",
              "      <td>0.994686</td>\n",
              "      <td>3.217333</td>\n",
              "      <td>0.529529</td>\n",
              "      <td>10.493907</td>\n",
              "      <td>5.818164</td>\n",
              "    </tr>\n",
              "    <tr>\n",
              "      <th>std</th>\n",
              "      <td>1.287939</td>\n",
              "      <td>0.164251</td>\n",
              "      <td>0.146342</td>\n",
              "      <td>4.715483</td>\n",
              "      <td>0.035773</td>\n",
              "      <td>17.571323</td>\n",
              "      <td>56.604841</td>\n",
              "      <td>0.002933</td>\n",
              "      <td>0.159624</td>\n",
              "      <td>0.148697</td>\n",
              "      <td>1.194671</td>\n",
              "      <td>0.873126</td>\n",
              "    </tr>\n",
              "    <tr>\n",
              "      <th>min</th>\n",
              "      <td>3.800000</td>\n",
              "      <td>0.080000</td>\n",
              "      <td>0.000000</td>\n",
              "      <td>0.600000</td>\n",
              "      <td>0.009000</td>\n",
              "      <td>1.000000</td>\n",
              "      <td>6.000000</td>\n",
              "      <td>0.987110</td>\n",
              "      <td>2.720000</td>\n",
              "      <td>0.230000</td>\n",
              "      <td>8.000000</td>\n",
              "      <td>3.000000</td>\n",
              "    </tr>\n",
              "    <tr>\n",
              "      <th>25%</th>\n",
              "      <td>6.400000</td>\n",
              "      <td>0.230000</td>\n",
              "      <td>0.250000</td>\n",
              "      <td>1.800000</td>\n",
              "      <td>0.038000</td>\n",
              "      <td>17.000000</td>\n",
              "      <td>77.000000</td>\n",
              "      <td>0.992370</td>\n",
              "      <td>3.110000</td>\n",
              "      <td>0.430000</td>\n",
              "      <td>9.500000</td>\n",
              "      <td>5.000000</td>\n",
              "    </tr>\n",
              "    <tr>\n",
              "      <th>50%</th>\n",
              "      <td>7.000000</td>\n",
              "      <td>0.290000</td>\n",
              "      <td>0.310000</td>\n",
              "      <td>3.100000</td>\n",
              "      <td>0.047000</td>\n",
              "      <td>29.000000</td>\n",
              "      <td>118.000000</td>\n",
              "      <td>0.994880</td>\n",
              "      <td>3.210000</td>\n",
              "      <td>0.510000</td>\n",
              "      <td>10.300000</td>\n",
              "      <td>6.000000</td>\n",
              "    </tr>\n",
              "    <tr>\n",
              "      <th>75%</th>\n",
              "      <td>7.700000</td>\n",
              "      <td>0.400000</td>\n",
              "      <td>0.390000</td>\n",
              "      <td>8.200000</td>\n",
              "      <td>0.064000</td>\n",
              "      <td>42.000000</td>\n",
              "      <td>156.000000</td>\n",
              "      <td>0.996960</td>\n",
              "      <td>3.320000</td>\n",
              "      <td>0.600000</td>\n",
              "      <td>11.300000</td>\n",
              "      <td>6.000000</td>\n",
              "    </tr>\n",
              "    <tr>\n",
              "      <th>max</th>\n",
              "      <td>15.900000</td>\n",
              "      <td>1.580000</td>\n",
              "      <td>1.660000</td>\n",
              "      <td>31.600000</td>\n",
              "      <td>0.611000</td>\n",
              "      <td>146.500000</td>\n",
              "      <td>366.500000</td>\n",
              "      <td>1.010300</td>\n",
              "      <td>4.010000</td>\n",
              "      <td>2.000000</td>\n",
              "      <td>14.900000</td>\n",
              "      <td>9.000000</td>\n",
              "    </tr>\n",
              "  </tbody>\n",
              "</table>\n",
              "</div>"
            ],
            "text/plain": [
              "       fixed acidity  volatile acidity  ...      alcohol      quality\n",
              "count    5197.000000       5197.000000  ...  5197.000000  5197.000000\n",
              "mean        7.213854          0.338667  ...    10.493907     5.818164\n",
              "std         1.287939          0.164251  ...     1.194671     0.873126\n",
              "min         3.800000          0.080000  ...     8.000000     3.000000\n",
              "25%         6.400000          0.230000  ...     9.500000     5.000000\n",
              "50%         7.000000          0.290000  ...    10.300000     6.000000\n",
              "75%         7.700000          0.400000  ...    11.300000     6.000000\n",
              "max        15.900000          1.580000  ...    14.900000     9.000000\n",
              "\n",
              "[8 rows x 12 columns]"
            ]
          },
          "metadata": {
            "tags": []
          },
          "execution_count": 6
        }
      ]
    },
    {
      "cell_type": "code",
      "metadata": {
        "id": "lzjCXE_lRBI5",
        "colab_type": "code",
        "outputId": "a8be8a86-0f54-44d8-fe06-ff3f1b74bbfc",
        "colab": {
          "base_uri": "https://localhost:8080/",
          "height": 323
        }
      },
      "source": [
        "wines.info()"
      ],
      "execution_count": 0,
      "outputs": [
        {
          "output_type": "stream",
          "text": [
            "<class 'pandas.core.frame.DataFrame'>\n",
            "Int64Index: 5197 entries, 0 to 5196\n",
            "Data columns (total 13 columns):\n",
            "fixed acidity           5197 non-null float64\n",
            "volatile acidity        5197 non-null float64\n",
            "citric acid             5197 non-null float64\n",
            "residual sugar          5197 non-null float64\n",
            "chlorides               5197 non-null float64\n",
            "free sulfur dioxide     5197 non-null float64\n",
            "total sulfur dioxide    5197 non-null float64\n",
            "density                 5197 non-null float64\n",
            "pH                      5197 non-null float64\n",
            "sulphates               5197 non-null float64\n",
            "alcohol                 5197 non-null float64\n",
            "quality                 5197 non-null int64\n",
            "type                    5197 non-null object\n",
            "dtypes: float64(11), int64(1), object(1)\n",
            "memory usage: 568.4+ KB\n"
          ],
          "name": "stdout"
        }
      ]
    },
    {
      "cell_type": "code",
      "metadata": {
        "id": "37eO1vY6TTZF",
        "colab_type": "code",
        "outputId": "5805cbeb-6943-43a7-d3df-185d556d1dd0",
        "colab": {
          "base_uri": "https://localhost:8080/",
          "height": 272
        }
      },
      "source": [
        "print(\"Valores nulos en wines dataset:\\n{}\".format(wines.isnull().sum()))"
      ],
      "execution_count": 0,
      "outputs": [
        {
          "output_type": "stream",
          "text": [
            "Valores nulos en wines dataset:\n",
            "fixed acidity           0\n",
            "volatile acidity        0\n",
            "citric acid             0\n",
            "residual sugar          0\n",
            "chlorides               0\n",
            "free sulfur dioxide     0\n",
            "total sulfur dioxide    0\n",
            "density                 0\n",
            "pH                      0\n",
            "sulphates               0\n",
            "alcohol                 0\n",
            "quality                 0\n",
            "type                    0\n",
            "dtype: int64\n"
          ],
          "name": "stdout"
        }
      ]
    },
    {
      "cell_type": "code",
      "metadata": {
        "id": "iA_aAICqjY9C",
        "colab_type": "code",
        "colab": {}
      },
      "source": [
        "#Convertimos 'type' en numérico para un mejor análisis\n",
        "wines.type = wines.type.replace({\"White\":1, \"red\" : 0})"
      ],
      "execution_count": 0,
      "outputs": []
    },
    {
      "cell_type": "code",
      "metadata": {
        "id": "Qw6wDUkIRCad",
        "colab_type": "code",
        "outputId": "20c12465-9d3d-4cc8-ae10-b685f7e2f7bc",
        "colab": {
          "base_uri": "https://localhost:8080/",
          "height": 282
        }
      },
      "source": [
        "#Cantidad de vinos de cada tipo\n",
        "wines['type'].value_counts().plot.bar()"
      ],
      "execution_count": 0,
      "outputs": [
        {
          "output_type": "execute_result",
          "data": {
            "text/plain": [
              "<matplotlib.axes._subplots.AxesSubplot at 0x7fd5af00b160>"
            ]
          },
          "metadata": {
            "tags": []
          },
          "execution_count": 10
        },
        {
          "output_type": "display_data",
          "data": {
            "image/png": "[encoded data removed]",
            "text/plain": [
              "<Figure size 432x288 with 1 Axes>"
            ]
          },
          "metadata": {
            "tags": []
          }
        }
      ]
    },
    {
      "cell_type": "code",
      "metadata": {
        "id": "QFjrjGhwNT08",
        "colab_type": "code",
        "outputId": "c08bbb8c-b2a0-4060-9b63-34fe823f7b23",
        "colab": {
          "base_uri": "https://localhost:8080/",
          "height": 54
        }
      },
      "source": [
        "nameCols = wines.columns.tolist()\n",
        "#Quitamos 'type' por ser un string\n",
        "nameCols.pop()\n",
        "print(nameCols)"
      ],
      "execution_count": 0,
      "outputs": [
        {
          "output_type": "stream",
          "text": [
            "['fixed acidity', 'volatile acidity', 'citric acid', 'residual sugar', 'chlorides', 'free sulfur dioxide', 'total sulfur dioxide', 'density', 'pH', 'sulphates', 'alcohol', 'quality']\n"
          ],
          "name": "stdout"
        }
      ]
    },
    {
      "cell_type": "code",
      "metadata": {
        "id": "eUXC54NGQTwt",
        "colab_type": "code",
        "outputId": "e15a62dc-c107-4bca-974e-15bf0c1fb5e5",
        "colab": {
          "base_uri": "https://localhost:8080/",
          "height": 627
        }
      },
      "source": [
        "#Densidad de las variables\n",
        "fig = plt.figure(figsize=(30,10))\n",
        "\n",
        "x = 0\n",
        "y = 0\n",
        "\n",
        "for c in nameCols:\n",
        "  plt.subplot2grid((3,4),(x,y))\n",
        "  wines[c].plot.kde()\n",
        "  plt.title('Distribución - ' + c)\n",
        "  y += 1\n",
        "  if y == 4:\n",
        "    y = 0\n",
        "    x += 1\n",
        "    \n",
        "plt.show()"
      ],
      "execution_count": 0,
      "outputs": [
        {
          "output_type": "display_data",
          "data": {
            "image/png": "[encoded data removed]",
            "text/plain": [
              "<Figure size 2160x720 with 12 Axes>"
            ]
          },
          "metadata": {
            "tags": []
          }
        }
      ]
    },
    {
      "cell_type": "code",
      "metadata": {
        "id": "2tlORGxeVxId",
        "colab_type": "code",
        "outputId": "10c78e5d-71cf-4627-d806-3afee8eaa31d",
        "colab": {
          "base_uri": "https://localhost:8080/",
          "height": 353
        }
      },
      "source": [
        "#Correlación entre variables\n",
        "corr = wines.corr()\n",
        "mask = np.zeros_like(corr)\n",
        "mask[np.triu_indices_from(mask)] = True\n",
        "\n",
        "sns.heatmap(corr, square=False, mask=mask)\n",
        "plt.show()"
      ],
      "execution_count": 0,
      "outputs": [
        {
          "output_type": "display_data",
          "data": {
            "image/png": "[encoded data removed]",
            "text/plain": [
              "<Figure size 432x288 with 2 Axes>"
            ]
          },
          "metadata": {
            "tags": []
          }
        }
      ]
    },
    {
      "cell_type": "markdown",
      "metadata": {
        "id": "Xq52nAC0BcCb",
        "colab_type": "text"
      },
      "source": [
        "## 3) Modelado"
      ]
    },
    {
      "cell_type": "markdown",
      "metadata": {
        "id": "uMrs1sTiBfqb",
        "colab_type": "text"
      },
      "source": [
        "- **Predecir tipo de vino**"
      ]
    },
    {
      "cell_type": "markdown",
      "metadata": {
        "id": "gao6g_7PBpVL",
        "colab_type": "text"
      },
      "source": [
        "## 4) Preparación de los Datos"
      ]
    },
    {
      "cell_type": "markdown",
      "metadata": {
        "id": "_SnnYKrCM644",
        "colab_type": "text"
      },
      "source": [
        "- **Volvemos a crear el DataFrame**"
      ]
    },
    {
      "cell_type": "code",
      "metadata": {
        "id": "Fr0KyyjgK8WX",
        "colab_type": "code",
        "colab": {}
      },
      "source": [
        "data = pd.read_csv('wine.csv', sep=',', index_col=0)\n",
        "wines = pd.DataFrame(data)\n",
        "\n",
        "wines.type = wines.type.replace({\"White\":1, \"red\" : 0})"
      ],
      "execution_count": 0,
      "outputs": []
    },
    {
      "cell_type": "markdown",
      "metadata": {
        "id": "z7BG60zWJtXm",
        "colab_type": "text"
      },
      "source": [
        "#### 4.1) Split dataset"
      ]
    },
    {
      "cell_type": "code",
      "metadata": {
        "id": "-suyMTFUKDh2",
        "colab_type": "code",
        "colab": {}
      },
      "source": [
        "from sklearn.model_selection import train_test_split"
      ],
      "execution_count": 0,
      "outputs": []
    },
    {
      "cell_type": "code",
      "metadata": {
        "id": "Z2Cr5AF9BuMl",
        "colab_type": "code",
        "colab": {}
      },
      "source": [
        "test_size = 0.3\n",
        "RANDOM_STATE = 12\n",
        "\n",
        "X = wines.drop(['quality'], axis=1)\n",
        "y = wines['quality']\n",
        "X_names = wines.dtypes.index.drop(['type'])\n",
        "\n",
        "X_train, X_test, y_train, y_test = train_test_split(X, y, test_size=test_size, random_state=RANDOM_STATE)"
      ],
      "execution_count": 0,
      "outputs": []
    },
    {
      "cell_type": "code",
      "metadata": {
        "id": "-997WFP4MuCP",
        "colab_type": "code",
        "outputId": "bc52bd0e-cd21-427a-f600-e46ca2804c46",
        "colab": {
          "base_uri": "https://localhost:8080/",
          "height": 34
        }
      },
      "source": [
        "print(\"train: {} vs test {}\".format(len(X_train), len(X_test)))"
      ],
      "execution_count": 0,
      "outputs": [
        {
          "output_type": "stream",
          "text": [
            "train: 3637 vs test 1560\n"
          ],
          "name": "stdout"
        }
      ]
    },
    {
      "cell_type": "markdown",
      "metadata": {
        "id": "Qvhm9EWiNAeK",
        "colab_type": "text"
      },
      "source": [
        "## 5) Implementación"
      ]
    },
    {
      "cell_type": "code",
      "metadata": {
        "id": "yBfKJI7MuMmx",
        "colab_type": "code",
        "colab": {}
      },
      "source": [
        "from sklearn.metrics import accuracy_score\n",
        "from sklearn.metrics import confusion_matrix"
      ],
      "execution_count": 0,
      "outputs": []
    },
    {
      "cell_type": "markdown",
      "metadata": {
        "id": "ob9SnSD83sSA",
        "colab_type": "text"
      },
      "source": [
        "### Random Forest Classifier"
      ]
    },
    {
      "cell_type": "code",
      "metadata": {
        "id": "2_HWY22O3vJo",
        "colab_type": "code",
        "colab": {}
      },
      "source": [
        "from sklearn.ensemble import RandomForestClassifier"
      ],
      "execution_count": 0,
      "outputs": []
    },
    {
      "cell_type": "code",
      "metadata": {
        "id": "SiAKcThE4DLn",
        "colab_type": "code",
        "colab": {}
      },
      "source": [
        "rfc = RandomForestClassifier(n_estimators=100, max_depth=3, random_state=12)\n",
        "rfc.fit(X_train, y_train)\n",
        "y_predRFC = rfc.predict(X_test)"
      ],
      "execution_count": 0,
      "outputs": []
    },
    {
      "cell_type": "code",
      "metadata": {
        "id": "JAHQDM_Gt-pi",
        "colab_type": "code",
        "outputId": "83dfbc3b-1fde-47dd-dd57-f22afd3f2ee7",
        "colab": {
          "base_uri": "https://localhost:8080/",
          "height": 34
        }
      },
      "source": [
        "MSE_RFC = accuracy_score(y_test, y_predRFC)\n",
        "print('accuracy = {}' . format(MSE_RFC))"
      ],
      "execution_count": 0,
      "outputs": [
        {
          "output_type": "stream",
          "text": [
            "accuracy = 0.5147435897435897\n"
          ],
          "name": "stdout"
        }
      ]
    },
    {
      "cell_type": "markdown",
      "metadata": {
        "id": "QjDgYrhS9Q1o",
        "colab_type": "text"
      },
      "source": [
        "### Support Vector Classifier"
      ]
    },
    {
      "cell_type": "code",
      "metadata": {
        "id": "5PXNKtcS9R6-",
        "colab_type": "code",
        "colab": {}
      },
      "source": [
        "from sklearn.svm import SVC"
      ],
      "execution_count": 0,
      "outputs": []
    },
    {
      "cell_type": "code",
      "metadata": {
        "id": "YNFohxFk9Uwh",
        "colab_type": "code",
        "colab": {}
      },
      "source": [
        "svc = SVC()\n",
        "svc.fit(X_train, y_train)\n",
        "y_predSVC = svc.predict(X_test)"
      ],
      "execution_count": 0,
      "outputs": []
    },
    {
      "cell_type": "code",
      "metadata": {
        "id": "_3JwvQgJt_-U",
        "colab_type": "code",
        "outputId": "5fa056d6-efc8-4124-c8dc-f8cf5bc986cd",
        "colab": {
          "base_uri": "https://localhost:8080/",
          "height": 34
        }
      },
      "source": [
        "MSE_SVC = accuracy_score(y_test, y_predSVC)\n",
        "print('accuracy = {}' . format(MSE_SVC))"
      ],
      "execution_count": 0,
      "outputs": [
        {
          "output_type": "stream",
          "text": [
            "accuracy = 0.5198717948717949\n"
          ],
          "name": "stdout"
        }
      ]
    },
    {
      "cell_type": "markdown",
      "metadata": {
        "id": "FAquHOYV-arr",
        "colab_type": "text"
      },
      "source": [
        "## 5.1) Pipelines & GridSearchCV"
      ]
    },
    {
      "cell_type": "code",
      "metadata": {
        "id": "4HYxY18k95hn",
        "colab_type": "code",
        "outputId": "c4574aa6-bcfe-48cb-f44a-5797cb47ab68",
        "colab": {
          "base_uri": "https://localhost:8080/",
          "height": 71
        }
      },
      "source": [
        "from sklearn.preprocessing import StandardScaler\n",
        "from sklearn.pipeline import Pipeline\n",
        "from sklearn.model_selection import GridSearchCV\n",
        "from sklearn.externals import joblib\n",
        "\n",
        "cv = 10\n",
        "n_jobs = -1 #Cantidad de procesadores. -1 utiliza todos los posibles.\n",
        "verbose = 2"
      ],
      "execution_count": 0,
      "outputs": [
        {
          "output_type": "stream",
          "text": [
            "/usr/local/lib/python3.6/dist-packages/sklearn/externals/joblib/__init__.py:15: DeprecationWarning: sklearn.externals.joblib is deprecated in 0.21 and will be removed in 0.23. Please import this functionality directly from joblib, which can be installed with: pip install joblib. If this warning is raised when loading pickled models, you may need to re-serialize those models with scikit-learn 0.21+.\n",
            "  warnings.warn(msg, category=DeprecationWarning)\n"
          ],
          "name": "stderr"
        }
      ]
    },
    {
      "cell_type": "markdown",
      "metadata": {
        "id": "5EQ5S5yqqtfI",
        "colab_type": "text"
      },
      "source": [
        "### PipeGS - Random Forest Classifier"
      ]
    },
    {
      "cell_type": "code",
      "metadata": {
        "id": "_3mrbtK3q1BF",
        "colab_type": "code",
        "outputId": "c875a433-068d-4696-b73f-df07aad8991d",
        "colab": {
          "base_uri": "https://localhost:8080/",
          "height": 343
        }
      },
      "source": [
        "#RandomForestClassifier\n",
        "pipelineRFC = Pipeline([\n",
        "    ('scl', StandardScaler()),\n",
        "    ('RandomForestClassifier', RandomForestClassifier())\n",
        "])\n",
        "\n",
        "pipelineRFC.fit(X_train, y_train)"
      ],
      "execution_count": 0,
      "outputs": [
        {
          "output_type": "stream",
          "text": [
            "/usr/local/lib/python3.6/dist-packages/sklearn/ensemble/forest.py:245: FutureWarning: The default value of n_estimators will change from 10 in version 0.20 to 100 in 0.22.\n",
            "  \"10 in version 0.20 to 100 in 0.22.\", FutureWarning)\n"
          ],
          "name": "stderr"
        },
        {
          "output_type": "execute_result",
          "data": {
            "text/plain": [
              "Pipeline(memory=None,\n",
              "         steps=[('scl',\n",
              "                 StandardScaler(copy=True, with_mean=True, with_std=True)),\n",
              "                ('RandomForestClassifier',\n",
              "                 RandomForestClassifier(bootstrap=True, class_weight=None,\n",
              "                                        criterion='gini', max_depth=None,\n",
              "                                        max_features='auto',\n",
              "                                        max_leaf_nodes=None,\n",
              "                                        min_impurity_decrease=0.0,\n",
              "                                        min_impurity_split=None,\n",
              "                                        min_samples_leaf=1, min_samples_split=2,\n",
              "                                        min_weight_fraction_leaf=0.0,\n",
              "                                        n_estimators=10, n_jobs=None,\n",
              "                                        oob_score=False, random_state=None,\n",
              "                                        verbose=0, warm_start=False))],\n",
              "         verbose=False)"
            ]
          },
          "metadata": {
            "tags": []
          },
          "execution_count": 19
        }
      ]
    },
    {
      "cell_type": "code",
      "metadata": {
        "id": "2XsOdVF_re8X",
        "colab_type": "code",
        "outputId": "aeb5d853-26ac-429c-a72d-d5ce889bc851",
        "colab": {
          "base_uri": "https://localhost:8080/",
          "height": 34
        }
      },
      "source": [
        "pipelineRFC.score(X_train, y_train)"
      ],
      "execution_count": 0,
      "outputs": [
        {
          "output_type": "execute_result",
          "data": {
            "text/plain": [
              "0.9846026945284575"
            ]
          },
          "metadata": {
            "tags": []
          },
          "execution_count": 20
        }
      ]
    },
    {
      "cell_type": "code",
      "metadata": {
        "id": "IPovLU8UrKid",
        "colab_type": "code",
        "colab": {}
      },
      "source": [
        "paramGridRFC = {\n",
        "    'RandomForestClassifier__n_estimators' : (10, 15, 20, 100),\n",
        "    'RandomForestClassifier__max_depth' : (None, 3, 5, 10),\n",
        "    'RandomForestClassifier__min_samples_split' : (2, 3, 4),\n",
        "}\n",
        "\n",
        "gridSearchRFC = GridSearchCV(\n",
        "    estimator = pipelineRFC,\n",
        "    param_grid = paramGridRFC,\n",
        "    cv = cv,\n",
        "    verbose = verbose,\n",
        "    n_jobs = n_jobs,\n",
        ")"
      ],
      "execution_count": 0,
      "outputs": []
    },
    {
      "cell_type": "code",
      "metadata": {
        "id": "Y1G4fzd_tbB0",
        "colab_type": "code",
        "outputId": "1f9fe651-36a3-47d2-97a8-6b6ba532a5c5",
        "colab": {
          "base_uri": "https://localhost:8080/",
          "height": 190
        }
      },
      "source": [
        "gridSearchRFC.fit(X_train, y_train)\n",
        "print('Best Score: %s' % gridSearchRFC.best_score_)"
      ],
      "execution_count": 0,
      "outputs": [
        {
          "output_type": "stream",
          "text": [
            "Fitting 10 folds for each of 48 candidates, totalling 480 fits\n"
          ],
          "name": "stdout"
        },
        {
          "output_type": "stream",
          "text": [
            "/usr/local/lib/python3.6/dist-packages/sklearn/model_selection/_split.py:657: Warning: The least populated class in y has only 2 members, which is too few. The minimum number of members in any class cannot be less than n_splits=10.\n",
            "  % (min_groups, self.n_splits)), Warning)\n",
            "[Parallel(n_jobs=-1)]: Using backend LokyBackend with 2 concurrent workers.\n",
            "[Parallel(n_jobs=-1)]: Done  37 tasks      | elapsed:    8.5s\n",
            "[Parallel(n_jobs=-1)]: Done 158 tasks      | elapsed:   30.0s\n",
            "[Parallel(n_jobs=-1)]: Done 361 tasks      | elapsed:   51.6s\n",
            "[Parallel(n_jobs=-1)]: Done 480 out of 480 | elapsed:  1.2min finished\n"
          ],
          "name": "stderr"
        },
        {
          "output_type": "stream",
          "text": [
            "Best Score: 0.6508111080560902\n"
          ],
          "name": "stdout"
        }
      ]
    },
    {
      "cell_type": "code",
      "metadata": {
        "id": "3JvVL-5ftjAm",
        "colab_type": "code",
        "outputId": "a02c0dfe-4b68-4e09-e8ee-21d7c71f0e78",
        "colab": {
          "base_uri": "https://localhost:8080/",
          "height": 85
        }
      },
      "source": [
        "print('Best Parameters: ')\n",
        "best_parameters = gridSearchRFC.best_estimator_.get_params()\n",
        "for param_name in sorted(paramGridRFC.keys()):\n",
        "  print(\"%s: %r\" % (param_name, best_parameters[param_name]))"
      ],
      "execution_count": 0,
      "outputs": [
        {
          "output_type": "stream",
          "text": [
            "Best Parameters: \n",
            "RandomForestClassifier__max_depth: None\n",
            "RandomForestClassifier__min_samples_split: 2\n",
            "RandomForestClassifier__n_estimators: 100\n"
          ],
          "name": "stdout"
        }
      ]
    },
    {
      "cell_type": "code",
      "metadata": {
        "id": "n1Thm_YfvALU",
        "colab_type": "code",
        "colab": {}
      },
      "source": [
        "#Predecimos para luego aplicar accuracy_score()\n",
        "predGS_RFC = gridSearchRFC.predict(X_test)"
      ],
      "execution_count": 0,
      "outputs": []
    },
    {
      "cell_type": "code",
      "metadata": {
        "id": "sltJD1m4vBtU",
        "colab_type": "code",
        "outputId": "f9abb167-9df3-48eb-f01a-2a5080b4920e",
        "colab": {
          "base_uri": "https://localhost:8080/",
          "height": 34
        }
      },
      "source": [
        "MSE_RFC = accuracy_score(y_test, predGS_RFC)\n",
        "print('accuracy = {}' . format(MSE_RFC))"
      ],
      "execution_count": 0,
      "outputs": [
        {
          "output_type": "stream",
          "text": [
            "accuracy = 0.6378205128205128\n"
          ],
          "name": "stdout"
        }
      ]
    },
    {
      "cell_type": "markdown",
      "metadata": {
        "id": "amXgxPcxw6Ma",
        "colab_type": "text"
      },
      "source": [
        "### PipeGS - Support Vector Classifier"
      ]
    },
    {
      "cell_type": "code",
      "metadata": {
        "id": "E7_YrMAqG_fs",
        "colab_type": "code",
        "outputId": "5f8d3db7-5f84-4426-a89f-ef743c14b568",
        "colab": {
          "base_uri": "https://localhost:8080/",
          "height": 187
        }
      },
      "source": [
        "pipelineSVC = Pipeline([\n",
        "    ('scl', StandardScaler()),\n",
        "    ('SVC', SVC())\n",
        "])\n",
        "\n",
        "pipelineSVC.fit(X_train, y_train)"
      ],
      "execution_count": 0,
      "outputs": [
        {
          "output_type": "execute_result",
          "data": {
            "text/plain": [
              "Pipeline(memory=None,\n",
              "         steps=[('scl',\n",
              "                 StandardScaler(copy=True, with_mean=True, with_std=True)),\n",
              "                ('SVC',\n",
              "                 SVC(C=1.0, cache_size=200, class_weight=None, coef0=0.0,\n",
              "                     decision_function_shape='ovr', degree=3,\n",
              "                     gamma='auto_deprecated', kernel='rbf', max_iter=-1,\n",
              "                     probability=False, random_state=None, shrinking=True,\n",
              "                     tol=0.001, verbose=False))],\n",
              "         verbose=False)"
            ]
          },
          "metadata": {
            "tags": []
          },
          "execution_count": 27
        }
      ]
    },
    {
      "cell_type": "code",
      "metadata": {
        "id": "SfVfSktqKsPg",
        "colab_type": "code",
        "outputId": "eae10980-be12-44c4-a67c-0966c3a98750",
        "colab": {
          "base_uri": "https://localhost:8080/",
          "height": 34
        }
      },
      "source": [
        "pipelineSVC.score(X_train, y_train)"
      ],
      "execution_count": 0,
      "outputs": [
        {
          "output_type": "execute_result",
          "data": {
            "text/plain": [
              "0.6200164971130052"
            ]
          },
          "metadata": {
            "tags": []
          },
          "execution_count": 28
        }
      ]
    },
    {
      "cell_type": "code",
      "metadata": {
        "id": "sZDy49SAGs7c",
        "colab_type": "code",
        "colab": {}
      },
      "source": [
        "paramGridSVC = {\n",
        "  'SVC__C' : (1.0, 2.0, 3.0, 3.5),  \n",
        "}\n",
        "\n",
        "gridSearchSVC = GridSearchCV(\n",
        "    estimator = pipelineSVC,\n",
        "    param_grid = paramGridSVC,\n",
        "    cv = cv,\n",
        "    verbose = verbose,\n",
        "    n_jobs = n_jobs,\n",
        ")"
      ],
      "execution_count": 0,
      "outputs": []
    },
    {
      "cell_type": "code",
      "metadata": {
        "id": "Fw-rCo7LLYPy",
        "colab_type": "code",
        "outputId": "6779a165-68e6-4358-a1f3-67c542a91acb",
        "colab": {
          "base_uri": "https://localhost:8080/",
          "height": 156
        }
      },
      "source": [
        "gridSearchSVC.fit(X_train, y_train)\n",
        "print('Best Score: %s' % gridSearchSVC.best_score_)"
      ],
      "execution_count": 0,
      "outputs": [
        {
          "output_type": "stream",
          "text": [
            "Fitting 10 folds for each of 4 candidates, totalling 40 fits\n"
          ],
          "name": "stdout"
        },
        {
          "output_type": "stream",
          "text": [
            "/usr/local/lib/python3.6/dist-packages/sklearn/model_selection/_split.py:657: Warning: The least populated class in y has only 2 members, which is too few. The minimum number of members in any class cannot be less than n_splits=10.\n",
            "  % (min_groups, self.n_splits)), Warning)\n",
            "[Parallel(n_jobs=-1)]: Using backend LokyBackend with 2 concurrent workers.\n",
            "[Parallel(n_jobs=-1)]: Done  37 tasks      | elapsed:   20.0s\n",
            "[Parallel(n_jobs=-1)]: Done  40 out of  40 | elapsed:   21.1s finished\n"
          ],
          "name": "stderr"
        },
        {
          "output_type": "stream",
          "text": [
            "Best Score: 0.5837228485015122\n"
          ],
          "name": "stdout"
        }
      ]
    },
    {
      "cell_type": "code",
      "metadata": {
        "id": "io3s_jBpLZsv",
        "colab_type": "code",
        "outputId": "8220e8f3-250e-4c05-da6c-42a6c1f72844",
        "colab": {
          "base_uri": "https://localhost:8080/",
          "height": 51
        }
      },
      "source": [
        "print('Best Parameters: ')\n",
        "best_parameters = gridSearchSVC.best_estimator_.get_params()\n",
        "for param_name in sorted(paramGridSVC.keys()):\n",
        "  print(\"%s: %r\" % (param_name, best_parameters[param_name]))"
      ],
      "execution_count": 0,
      "outputs": [
        {
          "output_type": "stream",
          "text": [
            "Best Parameters: \n",
            "SVC__C: 3.5\n"
          ],
          "name": "stdout"
        }
      ]
    },
    {
      "cell_type": "code",
      "metadata": {
        "id": "vYrTcSxHva2c",
        "colab_type": "code",
        "colab": {}
      },
      "source": [
        "#Predecimos para luego aplicar accuracy_score()\n",
        "predGS_SVC = gridSearchSVC.predict(X_test)"
      ],
      "execution_count": 0,
      "outputs": []
    },
    {
      "cell_type": "code",
      "metadata": {
        "id": "wvTYPjdkvgVr",
        "colab_type": "code",
        "outputId": "df8b5f1a-ab14-4cce-b5ec-5102f7fab204",
        "colab": {
          "base_uri": "https://localhost:8080/",
          "height": 34
        }
      },
      "source": [
        "MSE_SVC = accuracy_score(y_test, predGS_SVC)\n",
        "print('accuracy = {}' . format(MSE_SVC))"
      ],
      "execution_count": 0,
      "outputs": [
        {
          "output_type": "stream",
          "text": [
            "accuracy = 0.558974358974359\n"
          ],
          "name": "stdout"
        }
      ]
    },
    {
      "cell_type": "markdown",
      "metadata": {
        "id": "SdvO9Tnx2-5q",
        "colab_type": "text"
      },
      "source": [
        "## 6) Evaluación"
      ]
    },
    {
      "cell_type": "code",
      "metadata": {
        "id": "ioFnp8v53fvS",
        "colab_type": "code",
        "outputId": "1ac29c4f-31bf-4f99-c68d-732dca85f62f",
        "colab": {
          "base_uri": "https://localhost:8080/",
          "height": 51
        }
      },
      "source": [
        "print('Accuracy Random Forest Classifier = {}' . format(MSE_RFC))\n",
        "print('Accuracy Support Vector Classifier = {}' . format(MSE_SVC))"
      ],
      "execution_count": 0,
      "outputs": [
        {
          "output_type": "stream",
          "text": [
            "Accuracy Random Forest Classifier = 0.6378205128205128\n",
            "Accuracy Support Vector Classifier = 0.558974358974359\n"
          ],
          "name": "stdout"
        }
      ]
    },
    {
      "cell_type": "code",
      "metadata": {
        "colab_type": "code",
        "outputId": "86533ff3-4f92-41a5-f217-770464ee4de1",
        "id": "RXrlK6PntpFX",
        "colab": {
          "base_uri": "https://localhost:8080/",
          "height": 136
        }
      },
      "source": [
        "confusion_matrix(y_test, y_predRFC)"
      ],
      "execution_count": 0,
      "outputs": [
        {
          "output_type": "execute_result",
          "data": {
            "text/plain": [
              "array([[  0,   0,   1,   3,   0,   0,   0],\n",
              "       [  0,   0,  24,  36,   0,   0,   0],\n",
              "       [  0,   0, 282, 225,   0,   0,   0],\n",
              "       [  0,   0, 146, 521,   0,   0,   0],\n",
              "       [  0,   0,  11, 261,   0,   0,   0],\n",
              "       [  0,   0,   0,  48,   0,   0,   0],\n",
              "       [  0,   0,   0,   2,   0,   0,   0]])"
            ]
          },
          "metadata": {
            "tags": []
          },
          "execution_count": 43
        }
      ]
    },
    {
      "cell_type": "code",
      "metadata": {
        "id": "nZoNVvF_Ab3X",
        "colab_type": "code",
        "outputId": "c13c500a-f33e-4fe6-8607-30e3124d7b9b",
        "colab": {
          "base_uri": "https://localhost:8080/",
          "height": 136
        }
      },
      "source": [
        "confusion_matrix(y_test, y_predSVC)"
      ],
      "execution_count": 0,
      "outputs": [
        {
          "output_type": "execute_result",
          "data": {
            "text/plain": [
              "array([[  0,   0,   1,   3,   0,   0,   0],\n",
              "       [  0,   1,  22,  34,   3,   0,   0],\n",
              "       [  0,   0, 239, 260,   8,   0,   0],\n",
              "       [  0,   0, 126, 505,  35,   1,   0],\n",
              "       [  0,   0,  40, 172,  60,   0,   0],\n",
              "       [  0,   0,   1,  36,   5,   6,   0],\n",
              "       [  0,   0,   0,   1,   1,   0,   0]])"
            ]
          },
          "metadata": {
            "tags": []
          },
          "execution_count": 52
        }
      ]
    },
    {
      "cell_type": "markdown",
      "metadata": {
        "id": "AMVzatGqt_DY",
        "colab_type": "text"
      },
      "source": [
        "### 7) Presentación"
      ]
    },
    {
      "cell_type": "markdown",
      "metadata": {
        "id": "Dp6I4VFtxWJu",
        "colab_type": "text"
      },
      "source": [
        "#### Impacto de Variables"
      ]
    },
    {
      "cell_type": "code",
      "metadata": {
        "id": "PK6QWXu1xZr2",
        "colab_type": "code",
        "outputId": "af0a3f20-bf51-4751-9a9a-86414dca9089",
        "colab": {
          "base_uri": "https://localhost:8080/",
          "height": 136
        }
      },
      "source": [
        "#Creamos modelo con los parámetros ganadores para verificar Impacto de Variables\n",
        "RFC = RandomForestClassifier(n_estimators=100, max_depth=3, random_state=12)\n",
        "RFC.fit(X_train, y_train)"
      ],
      "execution_count": 0,
      "outputs": [
        {
          "output_type": "execute_result",
          "data": {
            "text/plain": [
              "RandomForestClassifier(bootstrap=True, class_weight=None, criterion='gini',\n",
              "                       max_depth=3, max_features='auto', max_leaf_nodes=None,\n",
              "                       min_impurity_decrease=0.0, min_impurity_split=None,\n",
              "                       min_samples_leaf=1, min_samples_split=2,\n",
              "                       min_weight_fraction_leaf=0.0, n_estimators=100,\n",
              "                       n_jobs=None, oob_score=False, random_state=12, verbose=0,\n",
              "                       warm_start=False)"
            ]
          },
          "metadata": {
            "tags": []
          },
          "execution_count": 49
        }
      ]
    },
    {
      "cell_type": "code",
      "metadata": {
        "id": "6z4u3MXYxboa",
        "colab_type": "code",
        "outputId": "a4130508-65ee-435f-f2f0-bc58303d5c4f",
        "colab": {
          "base_uri": "https://localhost:8080/",
          "height": 238
        }
      },
      "source": [
        "[print(\"{} : {:.4f}\".format(x, y)) for x, y in zip(X_names, RFC.feature_importances_)]"
      ],
      "execution_count": 0,
      "outputs": [
        {
          "output_type": "stream",
          "text": [
            "fixed acidity : 0.0128\n",
            "volatile acidity : 0.1211\n",
            "citric acid : 0.0600\n",
            "residual sugar : 0.0216\n",
            "chlorides : 0.0882\n",
            "free sulfur dioxide : 0.0252\n",
            "total sulfur dioxide : 0.0452\n",
            "density : 0.1700\n",
            "pH : 0.0084\n",
            "sulphates : 0.0192\n",
            "alcohol : 0.4150\n",
            "quality : 0.0131\n"
          ],
          "name": "stdout"
        },
        {
          "output_type": "execute_result",
          "data": {
            "text/plain": [
              "[None, None, None, None, None, None, None, None, None, None, None, None]"
            ]
          },
          "metadata": {
            "tags": []
          },
          "execution_count": 50
        }
      ]
    },
    {
      "cell_type": "code",
      "metadata": {
        "id": "vVnJa571yKQr",
        "colab_type": "code",
        "outputId": "4567f14f-e101-494f-d78e-78aef0c97c3f",
        "colab": {
          "base_uri": "https://localhost:8080/",
          "height": 283
        }
      },
      "source": [
        "caractRelevantes = pd.DataFrame()\n",
        "caractRelevantes[\"variable\"] = X_names\n",
        "caractRelevantes[\"valor\"] = RFC.feature_importances_\n",
        "\n",
        "sns.barplot(x=\"valor\", y=\"variable\", data=caractRelevantes.sort_values(\"valor\"))\n",
        "plt.show()"
      ],
      "execution_count": 0,
      "outputs": [
        {
          "output_type": "display_data",
          "data": {
            "image/png": "[encoded data removed]",
            "text/plain": [
              "<Figure size 432x288 with 1 Axes>"
            ]
          },
          "metadata": {
            "tags": []
          }
        }
      ]
    }
  ]
}