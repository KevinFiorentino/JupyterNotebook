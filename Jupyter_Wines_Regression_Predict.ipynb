{
  "nbformat": 4,
  "nbformat_minor": 0,
  "metadata": {
    "colab": {
      "name": "Jupyter - Wines - Regression_Predict.ipynb",
      "version": "0.3.2",
      "provenance": [],
      "collapsed_sections": [],
      "include_colab_link": true
    },
    "kernelspec": {
      "name": "python3",
      "display_name": "Python 3"
    }
  },
  "cells": [
    {
      "cell_type": "markdown",
      "metadata": {
        "id": "view-in-github",
        "colab_type": "text"
      },
      "source": [
        "<a href=\"https://colab.research.google.com/github/KevinFiorentino/JupyterNotebook/blob/master/Jupyter_Wines_Regression_Predict.ipynb\" target=\"_parent\"><img src=\"https://colab.research.google.com/assets/colab-badge.svg\" alt=\"Open In Colab\"/></a>"
      ]
    },
    {
      "cell_type": "markdown",
      "metadata": {
        "id": "dfJ6A-uRn0vn",
        "colab_type": "text"
      },
      "source": [
        "## 0) Preparación del Entorno"
      ]
    },
    {
      "cell_type": "code",
      "metadata": {
        "id": "nR-4TIyQnssq",
        "colab_type": "code",
        "colab": {}
      },
      "source": [
        "import pandas as pd\n",
        "import matplotlib.pyplot as plt\n",
        "import seaborn as sns\n",
        "import numpy as np\n",
        "\n",
        "%matplotlib inline "
      ],
      "execution_count": 0,
      "outputs": []
    },
    {
      "cell_type": "code",
      "metadata": {
        "id": "Wg799GyPnxxf",
        "colab_type": "code",
        "outputId": "f76df2ca-4769-499d-b57f-2f2244b8c631",
        "colab": {
          "base_uri": "https://localhost:8080/",
          "height": 326
        }
      },
      "source": [
        "!wget -O wine.csv \"https://drive.google.com/uc?export=download&id=1OqV0Vab3XZ6sBtAPwHSwnXpwYZP1Vq1I\""
      ],
      "execution_count": 0,
      "outputs": [
        {
          "output_type": "stream",
          "text": [
            "--2019-05-29 01:42:12--  https://drive.google.com/uc?export=download&id=1OqV0Vab3XZ6sBtAPwHSwnXpwYZP1Vq1I\n",
            "Resolving drive.google.com (drive.google.com)... 74.125.142.138, 74.125.142.101, 74.125.142.102, ...\n",
            "Connecting to drive.google.com (drive.google.com)|74.125.142.138|:443... connected.\n",
            "HTTP request sent, awaiting response... 302 Moved Temporarily\n",
            "Location: https://doc-14-9o-docs.googleusercontent.com/docs/securesc/ha0ro937gcuc7l7deffksulhg5h7mbp1/8kdj10pepc2lg6pdrr40qr9bln95uscc/1559088000000/02494309772064039021/*/1OqV0Vab3XZ6sBtAPwHSwnXpwYZP1Vq1I?e=download [following]\n",
            "Warning: wildcards not supported in HTTP.\n",
            "--2019-05-29 01:42:29--  https://doc-14-9o-docs.googleusercontent.com/docs/securesc/ha0ro937gcuc7l7deffksulhg5h7mbp1/8kdj10pepc2lg6pdrr40qr9bln95uscc/1559088000000/02494309772064039021/*/1OqV0Vab3XZ6sBtAPwHSwnXpwYZP1Vq1I?e=download\n",
            "Resolving doc-14-9o-docs.googleusercontent.com (doc-14-9o-docs.googleusercontent.com)... 74.125.195.132, 2607:f8b0:400e:c09::84\n",
            "Connecting to doc-14-9o-docs.googleusercontent.com (doc-14-9o-docs.googleusercontent.com)|74.125.195.132|:443... connected.\n",
            "HTTP request sent, awaiting response... 200 OK\n",
            "Length: 80951 (79K) [text/csv]\n",
            "Saving to: ‘wine.csv’\n",
            "\n",
            "wine.csv            100%[===================>]  79.05K  --.-KB/s    in 0.001s  \n",
            "\n",
            "2019-05-29 01:42:29 (65.6 MB/s) - ‘wine.csv’ saved [80951/80951]\n",
            "\n"
          ],
          "name": "stdout"
        }
      ]
    },
    {
      "cell_type": "markdown",
      "metadata": {
        "id": "Vy_q6oiTn4Wf",
        "colab_type": "text"
      },
      "source": [
        "# Prototipo I - Kevin - Wines Predict"
      ]
    },
    {
      "cell_type": "markdown",
      "metadata": {
        "id": "CI1ezt9zIMf-",
        "colab_type": "text"
      },
      "source": [
        "### Entrenamiento nuevos datos"
      ]
    },
    {
      "cell_type": "code",
      "metadata": {
        "id": "Pg8FfweSr6-C",
        "colab_type": "code",
        "colab": {}
      },
      "source": [
        "#Leemos el nuevo dataset\n",
        "data = pd.read_csv('wine.csv', sep=',', index_col=0)\n",
        "wines = pd.DataFrame(data)"
      ],
      "execution_count": 0,
      "outputs": []
    },
    {
      "cell_type": "code",
      "metadata": {
        "id": "5L6x-sgGKy8O",
        "colab_type": "code",
        "colab": {}
      },
      "source": [
        "wines.type = wines.type.replace({\"White\":1, \"red\" : 0})"
      ],
      "execution_count": 0,
      "outputs": []
    },
    {
      "cell_type": "code",
      "metadata": {
        "id": "GU5NGBfzjeQR",
        "colab_type": "code",
        "outputId": "8623b16b-a284-4b0e-96a1-07d42b2d34bf",
        "colab": {
          "base_uri": "https://localhost:8080/",
          "height": 252
        }
      },
      "source": [
        "wines.head()"
      ],
      "execution_count": 0,
      "outputs": [
        {
          "output_type": "execute_result",
          "data": {
            "text/html": [
              "<div>\n",
              "<style scoped>\n",
              "    .dataframe tbody tr th:only-of-type {\n",
              "        vertical-align: middle;\n",
              "    }\n",
              "\n",
              "    .dataframe tbody tr th {\n",
              "        vertical-align: top;\n",
              "    }\n",
              "\n",
              "    .dataframe thead th {\n",
              "        text-align: right;\n",
              "    }\n",
              "</style>\n",
              "<table border=\"1\" class=\"dataframe\">\n",
              "  <thead>\n",
              "    <tr style=\"text-align: right;\">\n",
              "      <th></th>\n",
              "      <th>fixed acidity</th>\n",
              "      <th>volatile acidity</th>\n",
              "      <th>citric acid</th>\n",
              "      <th>residual sugar</th>\n",
              "      <th>chlorides</th>\n",
              "      <th>free sulfur dioxide</th>\n",
              "      <th>total sulfur dioxide</th>\n",
              "      <th>density</th>\n",
              "      <th>pH</th>\n",
              "      <th>sulphates</th>\n",
              "      <th>alcohol</th>\n",
              "      <th>type</th>\n",
              "    </tr>\n",
              "    <tr>\n",
              "      <th>ID</th>\n",
              "      <th></th>\n",
              "      <th></th>\n",
              "      <th></th>\n",
              "      <th></th>\n",
              "      <th></th>\n",
              "      <th></th>\n",
              "      <th></th>\n",
              "      <th></th>\n",
              "      <th></th>\n",
              "      <th></th>\n",
              "      <th></th>\n",
              "      <th></th>\n",
              "    </tr>\n",
              "  </thead>\n",
              "  <tbody>\n",
              "    <tr>\n",
              "      <th>0</th>\n",
              "      <td>7.2</td>\n",
              "      <td>0.37</td>\n",
              "      <td>0.32</td>\n",
              "      <td>2.00</td>\n",
              "      <td>0.062</td>\n",
              "      <td>15.0</td>\n",
              "      <td>28.0</td>\n",
              "      <td>0.99470</td>\n",
              "      <td>3.23</td>\n",
              "      <td>0.73</td>\n",
              "      <td>11.3</td>\n",
              "      <td>0</td>\n",
              "    </tr>\n",
              "    <tr>\n",
              "      <th>1</th>\n",
              "      <td>7.3</td>\n",
              "      <td>0.36</td>\n",
              "      <td>0.34</td>\n",
              "      <td>14.80</td>\n",
              "      <td>0.057</td>\n",
              "      <td>46.0</td>\n",
              "      <td>173.0</td>\n",
              "      <td>0.99751</td>\n",
              "      <td>3.14</td>\n",
              "      <td>0.57</td>\n",
              "      <td>10.2</td>\n",
              "      <td>1</td>\n",
              "    </tr>\n",
              "    <tr>\n",
              "      <th>2</th>\n",
              "      <td>6.8</td>\n",
              "      <td>0.21</td>\n",
              "      <td>0.27</td>\n",
              "      <td>18.15</td>\n",
              "      <td>0.042</td>\n",
              "      <td>41.0</td>\n",
              "      <td>146.0</td>\n",
              "      <td>1.00010</td>\n",
              "      <td>3.30</td>\n",
              "      <td>0.36</td>\n",
              "      <td>8.7</td>\n",
              "      <td>1</td>\n",
              "    </tr>\n",
              "    <tr>\n",
              "      <th>3</th>\n",
              "      <td>5.7</td>\n",
              "      <td>0.46</td>\n",
              "      <td>0.46</td>\n",
              "      <td>1.40</td>\n",
              "      <td>0.040</td>\n",
              "      <td>31.0</td>\n",
              "      <td>169.0</td>\n",
              "      <td>0.99320</td>\n",
              "      <td>3.13</td>\n",
              "      <td>0.47</td>\n",
              "      <td>8.8</td>\n",
              "      <td>1</td>\n",
              "    </tr>\n",
              "    <tr>\n",
              "      <th>4</th>\n",
              "      <td>6.1</td>\n",
              "      <td>0.37</td>\n",
              "      <td>0.46</td>\n",
              "      <td>12.00</td>\n",
              "      <td>0.042</td>\n",
              "      <td>61.0</td>\n",
              "      <td>210.0</td>\n",
              "      <td>0.99700</td>\n",
              "      <td>3.17</td>\n",
              "      <td>0.59</td>\n",
              "      <td>9.7</td>\n",
              "      <td>1</td>\n",
              "    </tr>\n",
              "  </tbody>\n",
              "</table>\n",
              "</div>"
            ],
            "text/plain": [
              "    fixed acidity  volatile acidity  citric acid  ...  sulphates  alcohol  type\n",
              "ID                                                ...                          \n",
              "0             7.2              0.37         0.32  ...       0.73     11.3     0\n",
              "1             7.3              0.36         0.34  ...       0.57     10.2     1\n",
              "2             6.8              0.21         0.27  ...       0.36      8.7     1\n",
              "3             5.7              0.46         0.46  ...       0.47      8.8     1\n",
              "4             6.1              0.37         0.46  ...       0.59      9.7     1\n",
              "\n",
              "[5 rows x 12 columns]"
            ]
          },
          "metadata": {
            "tags": []
          },
          "execution_count": 5
        }
      ]
    },
    {
      "cell_type": "code",
      "metadata": {
        "id": "2Cxj2qStpY7i",
        "colab_type": "code",
        "colab": {}
      },
      "source": [
        "import pickle\n",
        "from google.colab import files"
      ],
      "execution_count": 0,
      "outputs": []
    },
    {
      "cell_type": "code",
      "metadata": {
        "id": "YgVQhgSR5VCP",
        "colab_type": "code",
        "outputId": "ca439c11-00f5-4734-e666-4f0239c80f1e",
        "colab": {
          "base_uri": "https://localhost:8080/",
          "height": 326
        }
      },
      "source": [
        "#Leemos el pickle desde el drive de Kevin\n",
        "!wget -O Fiorentino_Kevin_modelo_wines.pickle \"https://drive.google.com/uc?export=download&id=1lELUMz0wuQqt-m2WNMMO8WZxJkukuQEw\""
      ],
      "execution_count": 0,
      "outputs": [
        {
          "output_type": "stream",
          "text": [
            "--2019-05-29 01:44:11--  https://drive.google.com/uc?export=download&id=1lELUMz0wuQqt-m2WNMMO8WZxJkukuQEw\n",
            "Resolving drive.google.com (drive.google.com)... 74.125.195.113, 74.125.195.100, 74.125.195.139, ...\n",
            "Connecting to drive.google.com (drive.google.com)|74.125.195.113|:443... connected.\n",
            "HTTP request sent, awaiting response... 302 Moved Temporarily\n",
            "Location: https://doc-0s-9o-docs.googleusercontent.com/docs/securesc/ha0ro937gcuc7l7deffksulhg5h7mbp1/e0ji0dk1u2eg9ktn5sm7gc01h09d80nq/1559088000000/02494309772064039021/*/1lELUMz0wuQqt-m2WNMMO8WZxJkukuQEw?e=download [following]\n",
            "Warning: wildcards not supported in HTTP.\n",
            "--2019-05-29 01:44:11--  https://doc-0s-9o-docs.googleusercontent.com/docs/securesc/ha0ro937gcuc7l7deffksulhg5h7mbp1/e0ji0dk1u2eg9ktn5sm7gc01h09d80nq/1559088000000/02494309772064039021/*/1lELUMz0wuQqt-m2WNMMO8WZxJkukuQEw?e=download\n",
            "Resolving doc-0s-9o-docs.googleusercontent.com (doc-0s-9o-docs.googleusercontent.com)... 74.125.195.132, 2607:f8b0:400e:c09::84\n",
            "Connecting to doc-0s-9o-docs.googleusercontent.com (doc-0s-9o-docs.googleusercontent.com)|74.125.195.132|:443... connected.\n",
            "HTTP request sent, awaiting response... 200 OK\n",
            "Length: 1758636 (1.7M) [application/octet-stream]\n",
            "Saving to: ‘Fiorentino_Kevin_modelo_wines.pickle’\n",
            "\n",
            "\r          Fiorentin   0%[                    ]       0  --.-KB/s               \rFiorentino_Kevin_mo 100%[===================>]   1.68M  --.-KB/s    in 0.01s   \n",
            "\n",
            "2019-05-29 01:44:12 (119 MB/s) - ‘Fiorentino_Kevin_modelo_wines.pickle’ saved [1758636/1758636]\n",
            "\n"
          ],
          "name": "stdout"
        }
      ]
    },
    {
      "cell_type": "code",
      "metadata": {
        "id": "oB14BGGu6FEE",
        "colab_type": "code",
        "outputId": "f398108b-8fc8-4d3f-9197-bf9c607f6337",
        "colab": {
          "base_uri": "https://localhost:8080/",
          "height": 102
        }
      },
      "source": [
        "!ls"
      ],
      "execution_count": 0,
      "outputs": [
        {
          "output_type": "stream",
          "text": [
            " Fiorentino_Kevin_modelo_wines.pickle\n",
            " sample_data\n",
            "'uc?export=download&id=1lELUMz0wuQqt-m2WNMMO8WZxJkukuQEw'\n",
            "'uc?export=download&id=1lELUMz0wuQqt-m2WNMMO8WZxJkukuQEw.1'\n",
            " wine.csv\n"
          ],
          "name": "stdout"
        }
      ]
    },
    {
      "cell_type": "code",
      "metadata": {
        "id": "qISBPBC1G3Ar",
        "colab_type": "code",
        "colab": {}
      },
      "source": [
        "#Cargamos modelo\n",
        "modelo = pickle.load(open(\"Fiorentino_Kevin_modelo_wines.pickle\", \"rb\"))"
      ],
      "execution_count": 0,
      "outputs": []
    },
    {
      "cell_type": "code",
      "metadata": {
        "id": "K3d6VLuKKZmf",
        "colab_type": "code",
        "outputId": "d026a8f8-b7df-46fe-bb08-8ac9cebfb117",
        "colab": {
          "base_uri": "https://localhost:8080/",
          "height": 51
        }
      },
      "source": [
        "#Predecimos\n",
        "modelo.predict(wines)"
      ],
      "execution_count": 0,
      "outputs": [
        {
          "output_type": "execute_result",
          "data": {
            "text/plain": [
              "array([6.93333333, 5.4375    , 5.1       , ..., 7.025     , 5.55      ,\n",
              "       6.125     ])"
            ]
          },
          "metadata": {
            "tags": []
          },
          "execution_count": 15
        }
      ]
    },
    {
      "cell_type": "code",
      "metadata": {
        "id": "MghziCehIGJU",
        "colab_type": "code",
        "colab": {}
      },
      "source": [
        "#Creamos DataFrame con los datos predichos\n",
        "csv = pd.DataFrame(columns = ['ID', 'y_pred'])\n",
        "csv['ID'] = wines.index\n",
        "csv['y_pred'] = modelo.predict(wines)"
      ],
      "execution_count": 0,
      "outputs": []
    },
    {
      "cell_type": "code",
      "metadata": {
        "id": "0rjQ7Y-ZLN8-",
        "colab_type": "code",
        "outputId": "b09b42fd-5648-4417-a419-c9693b563a7f",
        "colab": {
          "base_uri": "https://localhost:8080/",
          "height": 204
        }
      },
      "source": [
        "csv.head()"
      ],
      "execution_count": 0,
      "outputs": [
        {
          "output_type": "execute_result",
          "data": {
            "text/html": [
              "<div>\n",
              "<style scoped>\n",
              "    .dataframe tbody tr th:only-of-type {\n",
              "        vertical-align: middle;\n",
              "    }\n",
              "\n",
              "    .dataframe tbody tr th {\n",
              "        vertical-align: top;\n",
              "    }\n",
              "\n",
              "    .dataframe thead th {\n",
              "        text-align: right;\n",
              "    }\n",
              "</style>\n",
              "<table border=\"1\" class=\"dataframe\">\n",
              "  <thead>\n",
              "    <tr style=\"text-align: right;\">\n",
              "      <th></th>\n",
              "      <th>ID</th>\n",
              "      <th>y_pred</th>\n",
              "    </tr>\n",
              "  </thead>\n",
              "  <tbody>\n",
              "    <tr>\n",
              "      <th>0</th>\n",
              "      <td>0</td>\n",
              "      <td>7.0</td>\n",
              "    </tr>\n",
              "    <tr>\n",
              "      <th>1</th>\n",
              "      <td>1</td>\n",
              "      <td>5.0</td>\n",
              "    </tr>\n",
              "    <tr>\n",
              "      <th>2</th>\n",
              "      <td>2</td>\n",
              "      <td>5.0</td>\n",
              "    </tr>\n",
              "    <tr>\n",
              "      <th>3</th>\n",
              "      <td>3</td>\n",
              "      <td>5.0</td>\n",
              "    </tr>\n",
              "    <tr>\n",
              "      <th>4</th>\n",
              "      <td>4</td>\n",
              "      <td>5.0</td>\n",
              "    </tr>\n",
              "  </tbody>\n",
              "</table>\n",
              "</div>"
            ],
            "text/plain": [
              "   ID  y_pred\n",
              "0   0     7.0\n",
              "1   1     5.0\n",
              "2   2     5.0\n",
              "3   3     5.0\n",
              "4   4     5.0"
            ]
          },
          "metadata": {
            "tags": []
          },
          "execution_count": 61
        }
      ]
    },
    {
      "cell_type": "code",
      "metadata": {
        "id": "0WkAm3YMWkbA",
        "colab_type": "code",
        "colab": {}
      },
      "source": [
        "#Redondeamos decimales a entero más cercano\n",
        "csv['y_pred'] = np.around(csv['y_pred'])"
      ],
      "execution_count": 0,
      "outputs": []
    },
    {
      "cell_type": "code",
      "metadata": {
        "id": "bMJw-yFpLW1Q",
        "colab_type": "code",
        "colab": {}
      },
      "source": [
        "#Exportamos los datos en un archivo .csv\n",
        "csv.to_csv('Fiorentino_Kevin_wines.csv', index=False, sep=',')"
      ],
      "execution_count": 0,
      "outputs": []
    },
    {
      "cell_type": "code",
      "metadata": {
        "id": "myBXjv9o7lqd",
        "colab_type": "code",
        "colab": {}
      },
      "source": [
        "!ls"
      ],
      "execution_count": 0,
      "outputs": []
    },
    {
      "cell_type": "code",
      "metadata": {
        "id": "83XNTLXD7mZC",
        "colab_type": "code",
        "colab": {}
      },
      "source": [
        "#Bajamos el .csv a nuestra computadora\n",
        "files.download('Fiorentino_Kevin_wines.csv')"
      ],
      "execution_count": 0,
      "outputs": []
    }
  ]
}